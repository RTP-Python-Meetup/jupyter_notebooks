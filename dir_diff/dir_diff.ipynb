{
 "cells": [
  {
   "cell_type": "code",
   "execution_count": 1,
   "metadata": {},
   "outputs": [
    {
     "name": "stdout",
     "output_type": "stream",
     "text": [
      "-rw-r--r-- file1\n",
      "-rw-r--r-- file2\n",
      "-rw-r--r-- file3\n",
      "-rw-r--r-- file6\n",
      "-rw-r--r-- file7\n"
     ]
    }
   ],
   "source": [
    "import os, stat\n",
    "\n",
    "with os.scandir('dir1') as dir_entries:\n",
    "    for entry in sorted(list(dir_entries), key=lambda e: e.name):\n",
    "        info = entry.stat()\n",
    "        print(stat.filemode(info.st_mode), entry.name)"
   ]
  },
  {
   "cell_type": "code",
   "execution_count": 2,
   "metadata": {},
   "outputs": [
    {
     "data": {
      "text/html": [
       "<div>\n",
       "<style scoped>\n",
       "    .dataframe tbody tr th:only-of-type {\n",
       "        vertical-align: middle;\n",
       "    }\n",
       "\n",
       "    .dataframe tbody tr th {\n",
       "        vertical-align: top;\n",
       "    }\n",
       "\n",
       "    .dataframe thead th {\n",
       "        text-align: right;\n",
       "    }\n",
       "</style>\n",
       "<table border=\"1\" class=\"dataframe\">\n",
       "  <thead>\n",
       "    <tr style=\"text-align: right;\">\n",
       "      <th></th>\n",
       "      <th>filename</th>\n",
       "      <th>attrs</th>\n",
       "    </tr>\n",
       "  </thead>\n",
       "  <tbody>\n",
       "    <tr>\n",
       "      <th>0</th>\n",
       "      <td>file1</td>\n",
       "      <td>-rw-r--r--</td>\n",
       "    </tr>\n",
       "    <tr>\n",
       "      <th>1</th>\n",
       "      <td>file2</td>\n",
       "      <td>-rw-r--r--</td>\n",
       "    </tr>\n",
       "    <tr>\n",
       "      <th>4</th>\n",
       "      <td>file7</td>\n",
       "      <td>-rw-r--r--</td>\n",
       "    </tr>\n",
       "    <tr>\n",
       "      <th>5</th>\n",
       "      <td>file4</td>\n",
       "      <td>-rw-r--r--</td>\n",
       "    </tr>\n",
       "    <tr>\n",
       "      <th>6</th>\n",
       "      <td>file5</td>\n",
       "      <td>-rw-r--r--</td>\n",
       "    </tr>\n",
       "    <tr>\n",
       "      <th>7</th>\n",
       "      <td>file8</td>\n",
       "      <td>-rw-r--r--</td>\n",
       "    </tr>\n",
       "  </tbody>\n",
       "</table>\n",
       "</div>"
      ],
      "text/plain": [
       "  filename       attrs\n",
       "0    file1  -rw-r--r--\n",
       "1    file2  -rw-r--r--\n",
       "4    file7  -rw-r--r--\n",
       "5    file4  -rw-r--r--\n",
       "6    file5  -rw-r--r--\n",
       "7    file8  -rw-r--r--"
      ]
     },
     "execution_count": 2,
     "metadata": {},
     "output_type": "execute_result"
    }
   ],
   "source": [
    "import pandas as pd\n",
    "\n",
    "df1 = pd.DataFrame.from_dict([{\n",
    "        'filename': entry.name,\n",
    "        'attrs': stat.filemode(info.st_mode)\n",
    "    } for entry in sorted(list(os.scandir('dir1')), key=lambda e: e.name)])\n",
    "df2 = pd.DataFrame.from_dict([{\n",
    "        'filename': entry.name,\n",
    "        'attrs': stat.filemode(info.st_mode)\n",
    "    } for entry in sorted(list(os.scandir('dir2')), key=lambda e: e.name)])\n",
    "\n",
    "outer = df1.merge(df2, how='outer', indicator=True)\n",
    "outer = outer[outer['_merge'].isin(['left_only', 'right_only'])]\n",
    "outer.drop(columns=['_merge'])"
   ]
  },
  {
   "cell_type": "code",
   "execution_count": 3,
   "metadata": {},
   "outputs": [
    {
     "data": {
      "text/html": [
       "<div>\n",
       "<style scoped>\n",
       "    .dataframe tbody tr th:only-of-type {\n",
       "        vertical-align: middle;\n",
       "    }\n",
       "\n",
       "    .dataframe tbody tr th {\n",
       "        vertical-align: top;\n",
       "    }\n",
       "\n",
       "    .dataframe thead th {\n",
       "        text-align: right;\n",
       "    }\n",
       "</style>\n",
       "<table border=\"1\" class=\"dataframe\">\n",
       "  <thead>\n",
       "    <tr style=\"text-align: right;\">\n",
       "      <th></th>\n",
       "      <th>filename</th>\n",
       "      <th>attrs</th>\n",
       "    </tr>\n",
       "  </thead>\n",
       "  <tbody>\n",
       "    <tr>\n",
       "      <th>0</th>\n",
       "      <td>file1</td>\n",
       "      <td>-rw-r--r--</td>\n",
       "    </tr>\n",
       "    <tr>\n",
       "      <th>1</th>\n",
       "      <td>file2</td>\n",
       "      <td>-rw-r--r--</td>\n",
       "    </tr>\n",
       "    <tr>\n",
       "      <th>4</th>\n",
       "      <td>file7</td>\n",
       "      <td>-rw-r--r--</td>\n",
       "    </tr>\n",
       "    <tr>\n",
       "      <th>5</th>\n",
       "      <td>file4</td>\n",
       "      <td>-rw-r--r--</td>\n",
       "    </tr>\n",
       "    <tr>\n",
       "      <th>6</th>\n",
       "      <td>file5</td>\n",
       "      <td>-rw-r--r--</td>\n",
       "    </tr>\n",
       "    <tr>\n",
       "      <th>7</th>\n",
       "      <td>file8</td>\n",
       "      <td>-rw-r--r--</td>\n",
       "    </tr>\n",
       "  </tbody>\n",
       "</table>\n",
       "</div>"
      ],
      "text/plain": [
       "  filename       attrs\n",
       "0    file1  -rw-r--r--\n",
       "1    file2  -rw-r--r--\n",
       "4    file7  -rw-r--r--\n",
       "5    file4  -rw-r--r--\n",
       "6    file5  -rw-r--r--\n",
       "7    file8  -rw-r--r--"
      ]
     },
     "execution_count": 3,
     "metadata": {},
     "output_type": "execute_result"
    }
   ],
   "source": [
    "import pandas as pd\n",
    "\n",
    "outer = pd.DataFrame.from_dict(\n",
    "        [{\n",
    "            'filename': entry.name,\n",
    "            'attrs': stat.filemode(info.st_mode)\n",
    "        } for entry in sorted(list(os.scandir('dir1')), key=lambda e: e.name)]\n",
    "    ).merge(\n",
    "        pd.DataFrame.from_dict([{\n",
    "            'filename': entry.name,\n",
    "            'attrs': stat.filemode(info.st_mode)\n",
    "        } for entry in sorted(list(os.scandir('dir2')), key=lambda e: e.name)]),\n",
    "        how='outer',\n",
    "        indicator=True\n",
    "    )\n",
    "outer = outer[outer['_merge'].isin(['left_only', 'right_only'])]\n",
    "outer.drop(columns=['_merge'])"
   ]
  }
 ],
 "metadata": {
  "kernelspec": {
   "display_name": "Python 3",
   "language": "python",
   "name": "python3"
  },
  "language_info": {
   "codemirror_mode": {
    "name": "ipython",
    "version": 3
   },
   "file_extension": ".py",
   "mimetype": "text/x-python",
   "name": "python",
   "nbconvert_exporter": "python",
   "pygments_lexer": "ipython3",
   "version": "3.8.1"
  }
 },
 "nbformat": 4,
 "nbformat_minor": 4
}
